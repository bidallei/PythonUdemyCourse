{
 "cells": [
  {
   "cell_type": "code",
   "execution_count": null,
   "id": "b8005253-cde8-4b4d-9b23-c02ec1fe0187",
   "metadata": {},
   "outputs": [],
   "source": [
    "import cv2"
   ]
  },
  {
   "cell_type": "code",
   "execution_count": null,
   "id": "bc03cbe5-cbbc-48e1-8a65-c4c37a953be3",
   "metadata": {
    "scrolled": true
   },
   "outputs": [],
   "source": [
    "img = cv2.imread(\"galaxy.jpg\", -1) # Con -1 se queda de colores, com 0 se vuelve blanco y negro\n",
    "print(type(img))\n",
    "print(img) # Se volvió la imagen todos los arrays con los colores en rgb de cada pixel\n",
    "print(img.shape) # Muestra el número de columnas y líneas de img\n",
    "print(img.ndim)"
   ]
  },
  {
   "cell_type": "code",
   "execution_count": null,
   "id": "dc396ba7-12ed-4450-a821-49c15275798f",
   "metadata": {},
   "outputs": [],
   "source": [
    "cv2.imshow(\"Galaxy\", img)\n",
    "cv2.waitKey(0) # Con el cero se queda todo el tiempo que queramos abierta la imagen\n",
    "cv2.destroyAllWindows()"
   ]
  },
  {
   "cell_type": "code",
   "execution_count": null,
   "id": "b8e41372-14b4-45b1-8b7c-00c892f153df",
   "metadata": {},
   "outputs": [],
   "source": [
    "#Se puede redimensionar\n",
    "resized_image = cv2.resize(img,(1000,500))\n",
    "cv2.imshow(\"Galaxy02\", resized_image)\n",
    "cv2.waitKey(0)\n",
    "cv2.destroyAllWindows()"
   ]
  },
  {
   "cell_type": "code",
   "execution_count": null,
   "id": "74ad085b-cf84-4f96-9e0c-ba3239c78a8d",
   "metadata": {},
   "outputs": [
    {
     "name": "stdout",
     "output_type": "stream",
     "text": [
      "<class 'numpy.ndarray'>\n",
      "[[[19 15 10]\n",
      "  [23 19 14]\n",
      "  [21 15  8]\n",
      "  ...\n",
      "  [27 22 13]\n",
      "  [22 17  8]\n",
      "  [23 18  9]]\n",
      "\n",
      " [[17 13  8]\n",
      "  [21 17 12]\n",
      "  [19 13  6]\n",
      "  ...\n",
      "  [27 22 13]\n",
      "  [22 17  8]\n",
      "  [24 19 10]]\n",
      "\n",
      " [[17 14  6]\n",
      "  [18 15  7]\n",
      "  [21 18 10]\n",
      "  ...\n",
      "  [23 16  7]\n",
      "  [33 26 17]\n",
      "  [30 23 14]]\n",
      "\n",
      " ...\n",
      "\n",
      " [[ 0  0  0]\n",
      "  [ 0  0  0]\n",
      "  [ 0  0  0]\n",
      "  ...\n",
      "  [ 5  5  5]\n",
      "  [ 8  8  8]\n",
      "  [14 14 14]]\n",
      "\n",
      " [[ 0  0  0]\n",
      "  [ 0  0  0]\n",
      "  [ 0  0  0]\n",
      "  ...\n",
      "  [ 2  2  2]\n",
      "  [ 3  3  3]\n",
      "  [ 9  9  9]]\n",
      "\n",
      " [[ 1  1  1]\n",
      "  [ 1  1  1]\n",
      "  [ 1  1  1]\n",
      "  ...\n",
      "  [ 1  1  1]\n",
      "  [ 1  1  1]\n",
      "  [ 3  3  3]]]\n",
      "(1485, 990, 3)\n",
      "3\n"
     ]
    },
    {
     "name": "stderr",
     "output_type": "stream",
     "text": [
      "Warning: Ignoring XDG_SESSION_TYPE=wayland on Gnome. Use QT_QPA_PLATFORM=wayland to run on Wayland anyway.\n"
     ]
    }
   ],
   "source": [
    "#Se puede redimensionar para que sea proporcional\n",
    "import cv2\n",
    "\n",
    "img = cv2.imread(\"galaxy.jpg\", -1) \n",
    "print(type(img))\n",
    "print(img) \n",
    "print(img.shape) \n",
    "print(img.ndim)\n",
    "\n",
    "resized_image = cv2.resize(img,(int(img.shape[1]/2),int(img.shape[0]/2)))\n",
    "cv2.imshow(\"Galaxy02\", resized_image)\n",
    "cv2.imwrite(\"Galaxy_resized.jpg\", resized_image)\n",
    "cv2.waitKey(0)\n",
    "cv2.destroyAllWindows()\n"
   ]
  },
  {
   "cell_type": "code",
   "execution_count": null,
   "id": "4a1cd418-c9e3-494f-8481-67b130c73eb2",
   "metadata": {},
   "outputs": [],
   "source": [
    "# Para volver blanco y negro una imagen\n",
    "import cv2\n",
    "\n",
    "face_cascade = cv2.CascadeClassifier(\"haarcascade_frontalface_default.xml\")\n",
    "\n",
    "img = cv2.imread(\"photo.jpg\")\n",
    "\n",
    "gray_img = cv2.cvtColor(img, cv2.COLOR_BGR2GRAY)\n",
    "\n",
    "cv2.imshow(\"Gray\", gray_img)\n",
    "cv2.waitKey(0)\n",
    "cv2.destroyAllWindows()"
   ]
  }
 ],
 "metadata": {
  "kernelspec": {
   "display_name": "Python 3 (ipykernel)",
   "language": "python",
   "name": "python3"
  },
  "language_info": {
   "codemirror_mode": {
    "name": "ipython",
    "version": 3
   },
   "file_extension": ".py",
   "mimetype": "text/x-python",
   "name": "python",
   "nbconvert_exporter": "python",
   "pygments_lexer": "ipython3",
   "version": "3.10.12"
  }
 },
 "nbformat": 4,
 "nbformat_minor": 5
}
