{
 "cells": [
  {
   "cell_type": "code",
   "execution_count": 9,
   "id": "845bfac7-0889-4a26-ac16-398f37572b24",
   "metadata": {},
   "outputs": [
    {
     "name": "stdout",
     "output_type": "stream",
     "text": [
      "integro\n"
     ]
    }
   ],
   "source": [
    "a = 10\n",
    "if type(a) == int:\n",
    "    print ('integro')"
   ]
  },
  {
   "cell_type": "code",
   "execution_count": 11,
   "id": "efe2bd7f-7bcb-4c28-a66f-1c982a2e65d2",
   "metadata": {},
   "outputs": [
    {
     "name": "stdout",
     "output_type": "stream",
     "text": [
      "no intego\n"
     ]
    }
   ],
   "source": [
    "a = 10.2\n",
    "if type(a) == int:\n",
    "    print ('integro')\n",
    "else:\n",
    "    print('no intego')"
   ]
  },
  {
   "cell_type": "code",
   "execution_count": 26,
   "id": "05841ee8-7a9f-494c-9cf5-0f50a4bd02b3",
   "metadata": {},
   "outputs": [
    {
     "name": "stdout",
     "output_type": "stream",
     "text": [
      "{'sign': 'positive', 'parity': 'even'}\n",
      "{'sign': 'negative', 'parity': 'even'}\n",
      "{'sign': 'negative', 'parity': 'odd'}\n",
      "{'sign': 'positive', 'parity': 'non integer'}\n",
      "{'sign': 'negative', 'parity': 'non integer'}\n",
      "{'sign': 'zero', 'parity': 'even'}\n"
     ]
    }
   ],
   "source": [
    "def foo(num):\n",
    "    dict = {\n",
    "        'sign':'positive',\n",
    "        'parity':'odd'\n",
    "    }\n",
    "    if num == 0:\n",
    "        dict['sign'] = 'zero'\n",
    "    elif num < 0:\n",
    "        dict['sign'] = 'negative'\n",
    "    if type(num) != int:\n",
    "        dict['parity'] = 'non integer'\n",
    "    elif num % 2 == 0:\n",
    "        dict['parity'] = 'even'\n",
    "    return dict\n",
    "    \n",
    "        \n",
    "print(foo(10))\n",
    "print(foo(-2))\n",
    "print(foo(-3))\n",
    "print(foo(5.1))\n",
    "print(foo(-5.1))\n",
    "print(foo(0))"
   ]
  },
  {
   "cell_type": "code",
   "execution_count": null,
   "id": "7282497f-bd88-4033-b0cd-6a27e8e52779",
   "metadata": {},
   "outputs": [],
   "source": [
    "def foo(number):\n",
    "    return dict(sign = \"positive\" if number > 0 else\n",
    "        (\"negative\" if number < 0 else \"zero\"),\n",
    "        parity = \"odd\" if number % 2 == 1 else \n",
    "        (\"even\" if number % 2 == 0 else \"non integer\"))\n",
    "\n",
    "print(foo(10))\n",
    "print(foo(-2))\n",
    "print(foo(-7))\n",
    "print(foo(5.1))\n",
    "print(foo(-5.1))\n",
    "print(foo(0))"
   ]
  },
  {
   "cell_type": "code",
   "execution_count": null,
   "id": "b2094797-71bc-4ede-908b-48462a110724",
   "metadata": {},
   "outputs": [],
   "source": [
    "lst = [5, 1, 2, 5 , 4, 2]\n",
    "lst2 = []\n",
    "\n",
    "if lst2:\n",
    "    print (lst2[0])\n",
    "else:\n",
    "    print( \"Empty List\")"
   ]
  },
  {
   "cell_type": "code",
   "execution_count": null,
   "id": "4575f51d-7f1b-4fd1-954c-4488b78a5859",
   "metadata": {},
   "outputs": [],
   "source": [
    "def foo(lst):\n",
    "    lstf = []\n",
    "    lstq1 = lst[0]\n",
    "    lstq2 = lst[-1]\n",
    "    for i in lst:\n",
    "        if i != lstq1 and i != lstq2:\n",
    "            lstf.append(i)\n",
    "        \n",
    "    return lstf \n",
    "    \n",
    "print(foo([2, 19, 99, 101]))"
   ]
  },
  {
   "cell_type": "code",
   "execution_count": 52,
   "id": "c7b5ac9a-0ed2-4c4e-800d-ee3002c01f77",
   "metadata": {},
   "outputs": [
    {
     "name": "stdout",
     "output_type": "stream",
     "text": [
      "[19, 99]\n"
     ]
    }
   ],
   "source": [
    "def foo(mylist):\n",
    "    return mylist[1:-1]\n",
    "\n",
    "print(foo([2, 19, 99, 101]))"
   ]
  },
  {
   "cell_type": "code",
   "execution_count": 54,
   "id": "c841ef29-1d95-4892-9d50-ac032c61a6ec",
   "metadata": {},
   "outputs": [
    {
     "data": {
      "text/plain": [
       "(1, 2, 3, 1, 2, 3)"
      ]
     },
     "execution_count": 54,
     "metadata": {},
     "output_type": "execute_result"
    }
   ],
   "source": [
    "(1, 2, 3) * 2\n"
   ]
  },
  {
   "cell_type": "code",
   "execution_count": 75,
   "id": "cddfde85-59af-498c-9c62-66cae8ef8cd8",
   "metadata": {
    "scrolled": true
   },
   "outputs": [
    {
     "name": "stdout",
     "output_type": "stream",
     "text": [
      "['mon', 'mon', 'mon', 'mon']\n",
      "[19, 25, 19, 11, 29]\n"
     ]
    }
   ],
   "source": [
    "def foo(lst):\n",
    "    count = 0\n",
    "    rslt = []\n",
    "    while count < len(lst)+1:\n",
    "        rslt.append(lst[count])\n",
    "        count += 7\n",
    "    return rslt\n",
    "\n",
    "\n",
    "print(foo(['mon', 'tue', 'wed', 'thu', 'fri', 'sat', 'sun', 'mon', 'tue', 'wed', 'thu', 'fri', 'sat', 'sun', 'mon', 'tue', 'wed', 'thu', 'fri', 'sat', 'sun', 'mon']))   \n",
    "        \n",
    "print(foo([19, 26, 12, 15, 21, 22, 9, 25, 20, 29, 19, 18, 5, 22, 19, 21, 18, 4, 18, 30, 23, 11, 26, 20, 13, 14, 29, 28, 29, 26]))"
   ]
  },
  {
   "cell_type": "code",
   "execution_count": 2,
   "id": "1db76924-a125-4e45-988b-01f0127aa13f",
   "metadata": {},
   "outputs": [
    {
     "name": "stdout",
     "output_type": "stream",
     "text": [
      "mon\n",
      "mon\n",
      "mon\n",
      "mon\n"
     ]
    }
   ],
   "source": [
    "lst = ['mon', 'tue', 'wed', 'thu', 'fri', 'sat', 'sun', 'mon', 'tue', 'wed', 'thu', 'fri', 'sat', 'sun', 'mon', 'tue', 'wed', 'thu', 'fri', 'sat', 'sun', 'mon']\n",
    "\n",
    "count = 0\n",
    "while count < len(lst):\n",
    "    print (lst[count])\n",
    "    count += 7"
   ]
  },
  {
   "cell_type": "code",
   "execution_count": null,
   "id": "f86c4858-e90d-412b-9e2f-21adcbe17a73",
   "metadata": {},
   "outputs": [],
   "source": [
    "lst = ['mon', 'tue', 'wed', 'thu', 'fri', 'sat', 'sun', 'mon', 'tue', 'wed', 'thu', 'fri', 'sat', 'sun', 'mon', 'tue', 'wed', 'thu', 'fri', 'sat', 'sun', 'mon']\n",
    "\n",
    "count = 0\n",
    "\n",
    "while count < len(lst): \n",
    "    for i in range(5):\n",
    "        if count + i < len(lst):\n",
    "            print(lst[count + i])\n",
    "        \n",
    "    count += 7"
   ]
  },
  {
   "cell_type": "code",
   "execution_count": 2,
   "id": "8629aed9-cb21-4436-871a-af8e2e4fac65",
   "metadata": {
    "scrolled": true
   },
   "outputs": [
    {
     "name": "stdout",
     "output_type": "stream",
     "text": [
      "['mon', 'tue', 'wed', 'thu', 'fri', 'mon', 'tue', 'wed', 'thu', 'fri', 'mon', 'tue', 'wed', 'thu', 'fri', 'mon']\n",
      "[19, 26, 12, 15, 21, 25, 20, 29, 19, 18, 19, 21, 18, 4, 18, 11, 26, 20, 13, 14, 29, 26]\n"
     ]
    }
   ],
   "source": [
    "def foo(lst):\n",
    "    count = 0\n",
    "    rslt = []\n",
    "    while count < len(lst): \n",
    "        for i in range(5):\n",
    "            if count + i < len(lst):\n",
    "                rslt.append(lst[count + i])       \n",
    "        count += 7\n",
    "    return rslt\n",
    "    \n",
    "\n",
    "\n",
    "print(foo(['mon', 'tue', 'wed', 'thu', 'fri', 'sat', 'sun', 'mon', 'tue', 'wed', 'thu', 'fri', 'sat', 'sun', 'mon', 'tue', 'wed', 'thu', 'fri', 'sat', 'sun', 'mon']))   \n",
    "        \n",
    "print(foo([19, 26, 12, 15, 21, 22, 9, 25, 20, 29, 19, 18, 5, 22, 19, 21, 18, 4, 18, 30, 23, 11, 26, 20, 13, 14, 29, 28, 29, 26]))"
   ]
  },
  {
   "cell_type": "code",
   "execution_count": 5,
   "id": "c1d8bc1f-13a9-4827-95a5-794b3c1e660c",
   "metadata": {},
   "outputs": [
    {
     "name": "stdout",
     "output_type": "stream",
     "text": [
      "['mon', 'tue', 'mon', 'tue', 'mon', 'tue', 'mon']\n"
     ]
    }
   ],
   "source": [
    "import itertools\n",
    "\n",
    "def foo(mylist, x, y):\n",
    "    list_of_lists = [mylist[i:i+x] for i in range(0, len(mylist),y)]\n",
    "    return list(itertools.chain.from_iterable(list_of_lists))\n",
    "\n",
    "\n",
    "\n",
    "lista1 = ['mon', 'tue', 'wed', 'thu', 'fri', 'sat', 'sun', 'mon', 'tue', 'wed', 'thu', 'fri', 'sat', 'sun', 'mon', 'tue', 'wed', 'thu', 'fri', 'sat', 'sun', 'mon']\n",
    "\n",
    "print(foo(lista1, 2, 7))"
   ]
  },
  {
   "cell_type": "raw",
   "id": "17aa37c6-8752-4ff9-8224-aa4878e43f59",
   "metadata": {},
   "source": [
    "Mean of List Extraction (Complex)\n",
    "Calculate and print out the mean of all items at a step of two. In other words, filter the list to have only items 1, 6, 9, 7, and so on, and print out the average of those numbers. Note that you're not being asked to define a function here. Your code should print out the required output using a print() function."
   ]
  },
  {
   "cell_type": "code",
   "execution_count": 18,
   "id": "df228f71-4bc2-4979-88cd-7ec1feea373c",
   "metadata": {},
   "outputs": [
    {
     "name": "stdout",
     "output_type": "stream",
     "text": [
      "9.6\n"
     ]
    }
   ],
   "source": [
    "numbers = [1, 4, 6, 8, 9, 6, 7, 8, 9, 3, 44, 55, 6, 77, 88, 997, 7, 6, 7, 7, 8, 9, 8, 8, 8, 9, 8, 8, 0, 9, 0, 9, 8, 9, 8, 8, 8, 9, 9, 9, 9, 0, 1, 3, 5, 6, 7, 8, 7, 7, 7, 8, 7, 7, 5, 4, 5, 6, 5, 56, 4, 3, 4, 5, 6, 6, 7, 8, 8, 9]\n",
    "\n",
    "extrList = numbers[::2]\n",
    "\n",
    "print(sum(extrList)/len(extrList))"
   ]
  },
  {
   "cell_type": "raw",
   "id": "9d65186e-5079-49df-92e5-6bddd59b8996",
   "metadata": {},
   "source": [
    "Odd Lists\n",
    "Implement a function that takes a list as parameter and returns the middle item of the list.\n",
    "\n",
    "For example, if the input value for the function is [5, 8, 9] the function output would be 8.  Yes, you'd ask what happens if the input list is [5, 8, 9, 10]?\n",
    "\n",
    "Well, lets just pretend the universe has only odd lists for now. We'll implement a function for even lists in the next exercise."
   ]
  },
  {
   "cell_type": "code",
   "execution_count": 20,
   "id": "38c59f4c-6040-48ab-81bf-7450b3f40d21",
   "metadata": {},
   "outputs": [
    {
     "name": "stdout",
     "output_type": "stream",
     "text": [
      "5\n",
      "2\n",
      "2\n",
      "intermedio = 4\n"
     ]
    }
   ],
   "source": [
    "lst = [1, 5, 3]\n",
    "lst2 = [1, 2, 4, 5, 6]\n",
    "\n",
    "a = (len(lst2))\n",
    "b = (len(lst2)//2)\n",
    "d = (lst2[b])\n",
    "\n",
    "\n",
    "print(a)\n",
    "print(b)\n",
    "print(c)\n",
    "print('intermedio = ' + str(d))\n"
   ]
  },
  {
   "cell_type": "raw",
   "id": "77ae2653-f677-44e9-8af5-d513ad2450f6",
   "metadata": {},
   "source": [
    "def foo(lst):\n",
    "    return lst[len(lst)//2]\n",
    "\n",
    "\n",
    "print(foo([1, 5, 3]))\n",
    "print(foo([1, 2, 4, 5, 6]))"
   ]
  },
  {
   "cell_type": "raw",
   "id": "b366b5a2-d452-4a4e-8aea-d0f2080c9158",
   "metadata": {},
   "source": [
    "Even Lists\n",
    "Implement a function that:\n",
    "\n",
    "(1) takes a list as parameter\n",
    "(2) returns the middle item of the list\n",
    "(3) returns the string \"Bad List\" if the input list has no items or it has an even number of items"
   ]
  },
  {
   "cell_type": "code",
   "execution_count": 23,
   "id": "79bf54bc-a674-482c-ae9b-9b2b5b15d92a",
   "metadata": {},
   "outputs": [
    {
     "name": "stdout",
     "output_type": "stream",
     "text": [
      "5\n",
      "Bad List\n"
     ]
    }
   ],
   "source": [
    "def foo(lst):\n",
    "    if len(lst) % 2 == 0:\n",
    "        return \"Bad List\"\n",
    "    else:\n",
    "        return lst[len(lst)//2]\n",
    "\n",
    "print(foo([1, 5, 3]))\n",
    "print(foo([1, 2, 4, 5, 6, 7]))"
   ]
  },
  {
   "cell_type": "raw",
   "id": "1e4184c8-2e59-40f0-82bd-7bc183240ffa",
   "metadata": {},
   "source": [
    "Anti Duplicator\n",
    "Implement a function that:\n",
    "\n",
    "(1) takes a list as parameter\n",
    "(2) removes its duplicates\n",
    "(3) returns the cleaned list"
   ]
  },
  {
   "cell_type": "code",
   "execution_count": 27,
   "id": "f73f745e-44e6-452b-83c7-bcef1fbe7f8b",
   "metadata": {},
   "outputs": [
    {
     "name": "stdout",
     "output_type": "stream",
     "text": [
      "[3, 4, 5, 2, 6, 7]\n"
     ]
    }
   ],
   "source": [
    "def foo(lst):\n",
    "    lstClean = []\n",
    "    for i in lst:\n",
    "        if i not in lstClean:\n",
    "            lstClean.append(i)\n",
    "    return lstClean\n",
    "\n",
    "listota = [3, 4, 5, 2, 4, 3, 6, 5, 3, 5, 3, 2, 2, 5, 7, 6]\n",
    "\n",
    "print(foo(listota))\n",
    "\n"
   ]
  },
  {
   "cell_type": "code",
   "execution_count": 29,
   "id": "773175cf-ec1c-44ce-85db-192aee0278f3",
   "metadata": {},
   "outputs": [
    {
     "name": "stdout",
     "output_type": "stream",
     "text": [
      "[2, 3, 4, 5, 6, 7]\n"
     ]
    }
   ],
   "source": [
    "def foo(mylist):\n",
    "    return list(set(mylist))\n",
    "\n",
    "listota = [3, 4, 5, 2, 4, 3, 6, 5, 3, 5, 3, 2, 2, 5, 7, 6]\n",
    "\n",
    "print(foo(listota))"
   ]
  },
  {
   "cell_type": "raw",
   "id": "682252ea-0316-492d-a296-45af91bfee42",
   "metadata": {},
   "source": [
    "Random Range\n",
    "Implement a function that:\n",
    "(1) returns a list of 1000 random integers\n",
    "(2) the integer values should be between 1 and 10, including 1 and 10."
   ]
  },
  {
   "cell_type": "code",
   "execution_count": 36,
   "id": "33d51e6b-63c9-42df-b6cd-159350de51d6",
   "metadata": {},
   "outputs": [
    {
     "name": "stdout",
     "output_type": "stream",
     "text": [
      "8\n",
      "2\n",
      "8\n",
      "10\n",
      "2\n",
      "8\n",
      "5\n",
      "8\n",
      "10\n",
      "3\n"
     ]
    }
   ],
   "source": [
    "import random\n",
    "\n",
    "for i in range(10):\n",
    "    print(random.randrange(1,11))\n"
   ]
  },
  {
   "cell_type": "code",
   "execution_count": 38,
   "id": "bb1cb319-61c4-46a8-8715-2329d694a421",
   "metadata": {},
   "outputs": [
    {
     "name": "stdout",
     "output_type": "stream",
     "text": [
      "[9, 8, 6, 2, 2, 10, 3, 5, 5, 8]\n"
     ]
    }
   ],
   "source": [
    "import random\n",
    "\n",
    "def foo():\n",
    "    return[random.randrange(1,11) for i in range(10)]\n",
    "\n",
    "print(foo())"
   ]
  },
  {
   "cell_type": "raw",
   "id": "a2556cb6-6c37-44ab-aa7e-667904a0e6b1",
   "metadata": {},
   "source": [
    "Banned \"xxx\"\n",
    "Implement a function that takes a string as argument and returns True if \"xxx\" is in that string and False it it is not."
   ]
  },
  {
   "cell_type": "code",
   "execution_count": 42,
   "id": "7fe6a107-68bf-4a91-9d96-090566534204",
   "metadata": {},
   "outputs": [
    {
     "name": "stdout",
     "output_type": "stream",
     "text": [
      "True\n",
      "False\n"
     ]
    }
   ],
   "source": [
    "def foo(str):\n",
    "    if \"xxx\" in str:\n",
    "        return True\n",
    "    else:\n",
    "        return False\n",
    "\n",
    "print(foo(\"Crsxxxxx\"))\n",
    "print(foo(\"Crisis\"))"
   ]
  },
  {
   "cell_type": "raw",
   "id": "a0137299-079e-433c-a8f3-41d77e3b2093",
   "metadata": {},
   "source": [
    "Banned \"xxx\" Lists\n",
    "Implement a function that\n",
    "\n",
    "(1) takes a list as parameter\n",
    "(2) returns all the items that contain \"xxx\"\n",
    "\n",
    "The list can contain any type of objects so make sure your code doesn't break when the list has non-string items."
   ]
  },
  {
   "cell_type": "code",
   "execution_count": 55,
   "id": "012c869c-dd03-4363-8b77-31d97874b738",
   "metadata": {},
   "outputs": [
    {
     "name": "stdout",
     "output_type": "stream",
     "text": [
      "['gxxxpsEE', 'gdsxxx']\n"
     ]
    }
   ],
   "source": [
    "def foo(lst):\n",
    "    lstCln = []\n",
    "    for item in lst:\n",
    "        if type(item) == str:\n",
    "            if \"xxx\" in item:\n",
    "                lstCln.append(item)\n",
    "    return lstCln\n",
    "\n",
    "listota = [3, 4, \"gxxxpsEE\", 2, 4, \"ers\", 6, 5, \"gdsxxx\", 5, 3, \"xxddsa\", 2, 5, 7, 6]\n",
    "\n",
    "\n",
    "print(foo(listota))"
   ]
  },
  {
   "cell_type": "code",
   "execution_count": 55,
   "id": "55baecaa-f46b-448c-8c3b-d1a2da74de56",
   "metadata": {},
   "outputs": [
    {
     "name": "stdout",
     "output_type": "stream",
     "text": [
      "['gxxxpsEE', 'gdsxxx']\n"
     ]
    }
   ],
   "source": [
    "def foo(mylist):\n",
    "    return [string for string in mylist if isinstance(string, str) and \"xxx\" in string ]\n",
    "\n",
    "listota = [3, 4, \"gxxxpsEE\", 2, 4, \"ers\", 6, 5, \"gdsxxx\", 5, 3, \"xxddsa\", 2, 5, 7, 6]\n",
    "\n",
    "\n",
    "print(foo(listota))"
   ]
  },
  {
   "cell_type": "raw",
   "id": "fdd6fbeb-0f19-4d67-bbfa-b4e531659f4c",
   "metadata": {},
   "source": [
    "Dictionary Sum\n",
    "Implement a function that takes a dictionary as parameter and returns the sum of the dictionary values.\n",
    "For example if the input is {'a' : 1, 'b' : 3, 'c' : 6} the function output should be 10."
   ]
  },
  {
   "cell_type": "code",
   "execution_count": 67,
   "id": "5f6f4efa-bca3-465d-a8b4-dea4a9c4e473",
   "metadata": {},
   "outputs": [
    {
     "name": "stdout",
     "output_type": "stream",
     "text": [
      "10\n"
     ]
    }
   ],
   "source": [
    "def foo(dicti):\n",
    "    sum = 0\n",
    "    for x,y in dicti.items():\n",
    "        sum += int(y)\n",
    "    return(sum)\n",
    "\n",
    "diccio = {'a' : 1, 'b' : 3, 'c' : 6}\n",
    "\n",
    "print(foo(diccio))"
   ]
  },
  {
   "cell_type": "code",
   "execution_count": 68,
   "id": "e5f59904-60a8-4f7a-86bc-233b72b62446",
   "metadata": {},
   "outputs": [
    {
     "name": "stdout",
     "output_type": "stream",
     "text": [
      "{'a': 1, 'b': 3, 'c': 6}\n",
      "a 1\n",
      "b 3\n",
      "c 6\n"
     ]
    }
   ],
   "source": [
    "\n",
    "diccio = {'a' : 1, 'b' : 3, 'c' : 6}\n",
    "\n",
    "print(diccio)\n",
    "for x, y in diccio.items():\n",
    "    print (x, y)\n",
    "    "
   ]
  },
  {
   "cell_type": "raw",
   "id": "dfca7e8a-a645-4228-8efe-22b0a32241c7",
   "metadata": {},
   "source": [
    "Dictionary Lists Sum\n",
    "Implement a function that takes a dictionary of lists as parameter and returns the sum of all items of all lists.\n",
    "For example, if input is {'a': [1, 2], 'b': [3, 4]} the output would be 10."
   ]
  },
  {
   "cell_type": "code",
   "execution_count": 88,
   "id": "f4bcd848-9c85-4988-b8d6-35c0f7eec695",
   "metadata": {},
   "outputs": [
    {
     "name": "stdout",
     "output_type": "stream",
     "text": [
      "10\n"
     ]
    }
   ],
   "source": [
    "def foo(dicti):\n",
    "    suma = []\n",
    "    for x,y in dicti.items():\n",
    "        suma.append(sum(y))\n",
    "    return(sum(suma))\n",
    "\n",
    "diccio = {'a': [1, 2], 'b': [3, 4]} \n",
    "print(foo(diccio))"
   ]
  },
  {
   "cell_type": "code",
   "execution_count": 90,
   "id": "c1350cf3-5a90-4879-9b6a-e0470269cb3b",
   "metadata": {},
   "outputs": [
    {
     "name": "stdout",
     "output_type": "stream",
     "text": [
      "{'a': [1, 2], 'b': [3, 4]}\n",
      "10\n"
     ]
    }
   ],
   "source": [
    "\n",
    "diccio = {'a': [1, 2], 'b': [3, 4]} \n",
    "suma = []\n",
    "print(diccio)\n",
    "for x, y in diccio.items():\n",
    "    suma.append(sum(y))\n",
    "\n",
    "print(sum(suma))"
   ]
  },
  {
   "cell_type": "raw",
   "id": "70cefc5c-690f-49d6-b694-bd974b195333",
   "metadata": {},
   "source": [
    "Filter Dictionary\n",
    "Implement a function that:\n",
    "\n",
    "(1) takes a dictionary as parameter\n",
    "(2) returns a dictionary containing only the pairs whose values are greater than 4.\n",
    "\n",
    "For example, if I called your function with\n",
    "foo({'a': 5, 'b': 3, 'c': 10})\n",
    "the output should be\n",
    "{'a': 5, 'c': 10}"
   ]
  },
  {
   "cell_type": "code",
   "execution_count": null,
   "id": "c1a31494-4b32-4bc0-82d4-bb1e9329fec7",
   "metadata": {},
   "outputs": [],
   "source": []
  },
  {
   "cell_type": "code",
   "execution_count": 98,
   "id": "f2ac4927-d79e-4628-8df0-6ce9d38811d9",
   "metadata": {},
   "outputs": [
    {
     "name": "stdout",
     "output_type": "stream",
     "text": [
      "{'a': 5, 'c': 10}\n"
     ]
    }
   ],
   "source": [
    "def foo(dicti):\n",
    "    dictMay = {}\n",
    "    for x,y in dicti.items():\n",
    "        if int(y) > 4:\n",
    "            dictMay[x] = y\n",
    "    return dictMay\n",
    "\n",
    "diccio = {'a': 5, 'b': 3, 'c': 10}\n",
    "print(foo(diccio))"
   ]
  },
  {
   "cell_type": "raw",
   "id": "a2b10b43-87a7-4be9-8ff7-2723bac50dd6",
   "metadata": {},
   "source": [
    "\n",
    "Filter Dictionary Double\n",
    "Implement a function that:\n",
    "\n",
    "(1) takes a dictionary as parameter\n",
    "(2) returns a dictionary containing only the pairs whose values are greater than 4 and they are integers\n",
    "\n",
    "For example, if I called your function with\n",
    "foo({'a': 5, 'b': 3, 'c': 10.1})\n",
    "the output should be\n",
    "{'a': 5}"
   ]
  },
  {
   "cell_type": "code",
   "execution_count": 102,
   "id": "1eefe3a0-f893-4932-bb51-64b68439bc51",
   "metadata": {},
   "outputs": [
    {
     "name": "stdout",
     "output_type": "stream",
     "text": [
      "{'a': 5}\n"
     ]
    }
   ],
   "source": [
    "def foo(dicti):\n",
    "    dictMay = {}\n",
    "    for x,y in dicti.items():\n",
    "        if int(y) > 4 and type(y) == int:\n",
    "            dictMay[x] = y\n",
    "    return dictMay\n",
    "\n",
    "diccio = {'a': 5, 'b': 3, 'c': 10.1}\n",
    "print(foo(diccio))"
   ]
  },
  {
   "cell_type": "raw",
   "id": "89ce3081-4f3d-4fae-8e49-4845e0c2fedd",
   "metadata": {},
   "source": [
    "Chatbot Version 1.0\n",
    "Complete the talk function so that it behaves like below if we were to call it:\n",
    "\n",
    "print(talk(\"hello\", vocabulary))\n",
    "The output of that would be:\n",
    "\n",
    "Hi there!\n",
    "Here's some more examples of how the function should behave:\n",
    "\n",
    "print(talk(\"what's your name\", vocabulary)) -> My name is Roboto!\n",
    "print(talk(\"what is your name\", vocabulary)) -> My name is Roboto!\n",
    "print(talk(\"bye\", vocabulary)) -> Goodbye!\n",
    "print(talk(\"what time is it\")) -> None"
   ]
  },
  {
   "cell_type": "code",
   "execution_count": 115,
   "id": "47f5583d-1b6d-485b-bedc-c1bb4b1bb46e",
   "metadata": {},
   "outputs": [
    {
     "name": "stdout",
     "output_type": "stream",
     "text": [
      "Hi there!\n",
      "My name is Roboto!\n",
      "My name is Roboto!\n",
      "Goodbye!\n",
      "None\n"
     ]
    }
   ],
   "source": [
    "vocabulary = {\n",
    "    \"hello\" : \"Hi there!\",\n",
    "    \"what's your name\" : \"My name is Roboto!\",\n",
    "    \"what is your name\" : \"My name is Roboto!\",\n",
    "    \"bye\" : \"Goodbye!\"\n",
    "}\n",
    "\n",
    "def talk(query, vocabulary = {}):\n",
    "    if query in vocabulary:\n",
    "        return vocabulary[query]\n",
    "\n",
    "\n",
    "print(talk(\"hello\", vocabulary))\n",
    "print(talk(\"what's your name\", vocabulary)) \n",
    "print(talk(\"what is your name\", vocabulary))\n",
    "print(talk(\"bye\", vocabulary))\n",
    "print(talk(\"what time is it\"))"
   ]
  }
 ],
 "metadata": {
  "kernelspec": {
   "display_name": "Python 3 (ipykernel)",
   "language": "python",
   "name": "python3"
  },
  "language_info": {
   "codemirror_mode": {
    "name": "ipython",
    "version": 3
   },
   "file_extension": ".py",
   "mimetype": "text/x-python",
   "name": "python",
   "nbconvert_exporter": "python",
   "pygments_lexer": "ipython3",
   "version": "3.10.12"
  }
 },
 "nbformat": 4,
 "nbformat_minor": 5
}
