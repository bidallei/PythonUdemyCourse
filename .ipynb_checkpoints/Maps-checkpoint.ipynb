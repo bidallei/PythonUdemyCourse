{
 "cells": [
  {
   "cell_type": "code",
   "execution_count": 2,
   "id": "f6a5ae6e-5095-4b38-b561-1d94af86ea5c",
   "metadata": {},
   "outputs": [],
   "source": [
    "import folium"
   ]
  },
  {
   "cell_type": "code",
   "execution_count": 4,
   "id": "c09b0a70-c6b5-4c91-90c4-f2dbe653f7f4",
   "metadata": {},
   "outputs": [],
   "source": [
    "map = folium.Map(location =[80, -100])\n",
    "map.save(\"Map1.html\")"
   ]
  },
  {
   "cell_type": "code",
   "execution_count": 5,
   "id": "52a61aac-e9e8-4f33-ac2b-3b3f928c8d12",
   "metadata": {},
   "outputs": [],
   "source": [
    "map = folium.Map(location =[92, -89.234432])\n",
    "map.save(\"Map2.html\")"
   ]
  },
  {
   "cell_type": "code",
   "execution_count": 6,
   "id": "583e38a5-624b-4818-8820-1bcbc515d04b",
   "metadata": {},
   "outputs": [],
   "source": [
    "map = folium.Map(location=[38.58, -99.09], zoom_start=6, tiles = \"OpenStreetMap\")\n",
    "map.add_child(folium.Marker(location=[38.2, -99.1], popup=\"Hi, I am a Marker\", icon=folium.Icon(color='green')))\n",
    "map.save(\"Map3.html\")"
   ]
  },
  {
   "cell_type": "code",
   "execution_count": 7,
   "id": "88cb07ef-ffe1-4219-9103-15cee1789a41",
   "metadata": {},
   "outputs": [],
   "source": [
    "map = folium.Map(location=[38.58, -99.09], zoom_start=6, tiles = \"OpenStreetMap\")\n",
    "fg = folium.FeatureGroup(name=\"My Map\")\n",
    "map.add_child(folium.Marker(location=[38.2, -99.1], popup=\"Hi, I am a Marker\", icon=folium.Icon(color='green')))\n",
    "map.add_child(fg)\n",
    "map.save(\"Map4.html\")"
   ]
  },
  {
   "cell_type": "code",
   "execution_count": 10,
   "id": "38f19b6d-6c6a-4ccd-a099-94d5b5a07eac",
   "metadata": {},
   "outputs": [],
   "source": [
    "map = folium.Map(location=[38.58, -99.09], zoom_start=6, tiles = \"OpenStreetMap\")\n",
    "fg = folium.FeatureGroup(name=\"My Map\")\n",
    "map.add_child(folium.Marker(location=[38.2, -99.1], popup=\"Hi, I am a Marker\", icon=folium.Icon(color='green')))\n",
    "map.add_child(folium.Marker(location=[37.2, -97.1], popup=\"Hi, I am the Second Marker\", icon=folium.Icon(color='green')))\n",
    "map.add_child(fg)\n",
    "map.save(\"Map5.html\")"
   ]
  },
  {
   "cell_type": "code",
   "execution_count": 12,
   "id": "206bb051-5e77-43a7-bd7a-6d192db71daa",
   "metadata": {},
   "outputs": [],
   "source": [
    "import pandas \n",
    "\n",
    "data = pandas.read_csv(\"Volcanoes.txt\")\n",
    "\n",
    "lat = list(data[\"LAT\"])\n",
    "lon = list(data[\"LON\"])\n",
    "\n",
    "map = folium.Map(location=[38.58, -99.09], zoom_start=6, tiles = \"OpenStreetMap\")\n",
    "\n",
    "fg = folium.FeatureGroup(name=\"My Map\")\n",
    "\n",
    "for lt, ln in zip(lat, lon):\n",
    "    fg.add_child(folium.Marker(location=[lt, ln], popup=\"Hi, I am a Marker\", icon=folium.Icon(color='green')))\n",
    "\n",
    "map.add_child(fg)\n",
    "\n",
    "map.save(\"Map6.html\")"
   ]
  },
  {
   "cell_type": "code",
   "execution_count": 17,
   "id": "da7abfe9-f5e1-49bf-8b7b-03f197e0dff0",
   "metadata": {},
   "outputs": [],
   "source": [
    "import pandas \n",
    "\n",
    "data = pandas.read_csv(\"Volcanoes.txt\")\n",
    "\n",
    "lat = list(data[\"LAT\"])\n",
    "lon = list(data[\"LON\"])\n",
    "elev = list(data[\"ELEV\"])\n",
    "\n",
    "\n",
    "map = folium.Map(location=[38.58, -99.09], zoom_start=6, tiles = \"OpenStreetMap\")\n",
    "\n",
    "fg = folium.FeatureGroup(name=\"My Map\")\n",
    "\n",
    "for lt, ln, el in zip(lat, lon, elev):\n",
    "    fg.add_child(folium.Marker(location=[lt, ln], popup=str(el) + \" m\", icon=folium.Icon(color='green')))\n",
    "\n",
    "map.add_child(fg)\n",
    "\n",
    "map.save(\"Map7.html\")"
   ]
  },
  {
   "cell_type": "code",
   "execution_count": 29,
   "id": "9523f14a-3b6f-41f6-aa3a-632918bdbef1",
   "metadata": {},
   "outputs": [],
   "source": [
    "import pandas \n",
    "\n",
    "data = pandas.read_csv(\"Volcanoes.txt\")\n",
    "\n",
    "lat = list(data[\"LAT\"])\n",
    "lon = list(data[\"LON\"])\n",
    "elev = list(data[\"ELEV\"])\n",
    "\n",
    "def color_producer(elevation):\n",
    "    if elevation < 1000:\n",
    "        return 'green'\n",
    "    elif 1000 <= elevation < 3000:\n",
    "        return 'orange'\n",
    "    else:\n",
    "        return 'red'\n",
    "\n",
    "map = folium.Map(location=[38.58, -99.09], zoom_start=4, tiles = \"OpenStreetMap\")\n",
    "\n",
    "fg = folium.FeatureGroup(name=\"My Map\")\n",
    "\n",
    "for lt, ln, el in zip(lat, lon, elev):\n",
    "    fg.add_child(folium.Marker(location=[lt, ln], popup=str(el) + \" m\", icon=folium.Icon(color=color_producer(el))))\n",
    "\n",
    "map.add_child(fg)\n",
    "\n",
    "map.save(\"Map8.html\")"
   ]
  },
  {
   "cell_type": "code",
   "execution_count": 7,
   "id": "39363a10-5ddd-4c56-83a1-1e47b4c146da",
   "metadata": {},
   "outputs": [],
   "source": [
    "import pandas \n",
    "\n",
    "data = pandas.read_csv(\"Volcanoes.txt\")\n",
    "\n",
    "lat = list(data[\"LAT\"])\n",
    "lon = list(data[\"LON\"])\n",
    "elev = list(data[\"ELEV\"])\n",
    "\n",
    "def color_producer(elevation):\n",
    "    if elevation < 1000:\n",
    "        return 'green'\n",
    "    elif 1000 <= elevation < 3000:\n",
    "        return 'orange'\n",
    "    else:\n",
    "        return 'red'\n",
    "\n",
    "map = folium.Map(location=[38.58, -99.09], zoom_start=4, tiles = \"OpenStreetMap\")\n",
    "\n",
    "fg = folium.FeatureGroup(name=\"My Map\")\n",
    "\n",
    "for lt, ln, el in zip(lat, lon, elev):\n",
    "    fg.add_child(folium.Marker(location=[lt, ln], popup=str(el) + \" m\", icon=folium.Icon(color=color_producer(el))))\n",
    "\n",
    "fg.add_child(folium.GeoJson(open('world.json', 'r', encoding='utf-8-sig').read()))\n",
    "\n",
    "map.add_child(fg)\n",
    "\n",
    "map.save(\"Map9.html\")"
   ]
  }
 ],
 "metadata": {
  "kernelspec": {
   "display_name": "Python 3 (ipykernel)",
   "language": "python",
   "name": "python3"
  },
  "language_info": {
   "codemirror_mode": {
    "name": "ipython",
    "version": 3
   },
   "file_extension": ".py",
   "mimetype": "text/x-python",
   "name": "python",
   "nbconvert_exporter": "python",
   "pygments_lexer": "ipython3",
   "version": "3.10.12"
  }
 },
 "nbformat": 4,
 "nbformat_minor": 5
}
