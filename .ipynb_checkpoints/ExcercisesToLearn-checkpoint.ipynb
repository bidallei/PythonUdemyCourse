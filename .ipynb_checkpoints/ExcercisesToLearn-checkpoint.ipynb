{
 "cells": [
  {
   "cell_type": "code",
   "execution_count": 9,
   "id": "845bfac7-0889-4a26-ac16-398f37572b24",
   "metadata": {},
   "outputs": [
    {
     "name": "stdout",
     "output_type": "stream",
     "text": [
      "integro\n"
     ]
    }
   ],
   "source": [
    "a = 10\n",
    "if type(a) == int:\n",
    "    print ('integro')"
   ]
  },
  {
   "cell_type": "code",
   "execution_count": 11,
   "id": "efe2bd7f-7bcb-4c28-a66f-1c982a2e65d2",
   "metadata": {},
   "outputs": [
    {
     "name": "stdout",
     "output_type": "stream",
     "text": [
      "no intego\n"
     ]
    }
   ],
   "source": [
    "a = 10.2\n",
    "if type(a) == int:\n",
    "    print ('integro')\n",
    "else:\n",
    "    print('no intego')"
   ]
  },
  {
   "cell_type": "code",
   "execution_count": 26,
   "id": "05841ee8-7a9f-494c-9cf5-0f50a4bd02b3",
   "metadata": {},
   "outputs": [
    {
     "name": "stdout",
     "output_type": "stream",
     "text": [
      "{'sign': 'positive', 'parity': 'even'}\n",
      "{'sign': 'negative', 'parity': 'even'}\n",
      "{'sign': 'negative', 'parity': 'odd'}\n",
      "{'sign': 'positive', 'parity': 'non integer'}\n",
      "{'sign': 'negative', 'parity': 'non integer'}\n",
      "{'sign': 'zero', 'parity': 'even'}\n"
     ]
    }
   ],
   "source": [
    "def foo(num):\n",
    "    dict = {\n",
    "        'sign':'positive',\n",
    "        'parity':'odd'\n",
    "    }\n",
    "    if num == 0:\n",
    "        dict['sign'] = 'zero'\n",
    "    elif num < 0:\n",
    "        dict['sign'] = 'negative'\n",
    "    if type(num) != int:\n",
    "        dict['parity'] = 'non integer'\n",
    "    elif num % 2 == 0:\n",
    "        dict['parity'] = 'even'\n",
    "    return dict\n",
    "    \n",
    "        \n",
    "print(foo(10))\n",
    "print(foo(-2))\n",
    "print(foo(-3))\n",
    "print(foo(5.1))\n",
    "print(foo(-5.1))\n",
    "print(foo(0))"
   ]
  },
  {
   "cell_type": "code",
   "execution_count": 30,
   "id": "7282497f-bd88-4033-b0cd-6a27e8e52779",
   "metadata": {},
   "outputs": [
    {
     "name": "stdout",
     "output_type": "stream",
     "text": [
      "{'sign': 'positive', 'parity': 'even'}\n",
      "{'sign': 'negative', 'parity': 'even'}\n",
      "{'sign': 'negative', 'parity': 'odd'}\n",
      "{'sign': 'positive', 'parity': 'non integer'}\n",
      "{'sign': 'negative', 'parity': 'non integer'}\n",
      "{'sign': 'zero', 'parity': 'even'}\n"
     ]
    }
   ],
   "source": [
    "def foo(number):\n",
    "    return dict(sign = \"positive\" if number > 0 else\n",
    "        (\"negative\" if number < 0 else \"zero\"),\n",
    "        parity = \"odd\" if number % 2 == 1 else \n",
    "        (\"even\" if number % 2 == 0 else \"non integer\"))\n",
    "\n",
    "print(foo(10))\n",
    "print(foo(-2))\n",
    "print(foo(-3))\n",
    "print(foo(5.1))\n",
    "print(foo(-5.1))\n",
    "print(foo(0))"
   ]
  },
  {
   "cell_type": "code",
   "execution_count": 37,
   "id": "b2094797-71bc-4ede-908b-48462a110724",
   "metadata": {},
   "outputs": [
    {
     "name": "stdout",
     "output_type": "stream",
     "text": [
      "Empty List\n"
     ]
    }
   ],
   "source": [
    "lst = [5, 1, 2, 5 , 4, 2]\n",
    "lst2 = []\n",
    "\n",
    "if lst2:\n",
    "    print (lst2[0])\n",
    "else:\n",
    "    print( \"Empty List\")"
   ]
  },
  {
   "cell_type": "code",
   "execution_count": 48,
   "id": "4575f51d-7f1b-4fd1-954c-4488b78a5859",
   "metadata": {},
   "outputs": [
    {
     "name": "stdout",
     "output_type": "stream",
     "text": [
      "[19, 99]\n"
     ]
    }
   ],
   "source": [
    "def foo(lst):\n",
    "    lstf = []\n",
    "    lstq1 = lst[0]\n",
    "    lstq2 = lst[-1]\n",
    "    for i in lst:\n",
    "        if i != lstq1 and i != lstq2:\n",
    "            lstf.append(i)\n",
    "        \n",
    "    return lstf \n",
    "    \n",
    "print(foo([2, 19, 99, 101]))"
   ]
  },
  {
   "cell_type": "code",
   "execution_count": 52,
   "id": "c7b5ac9a-0ed2-4c4e-800d-ee3002c01f77",
   "metadata": {},
   "outputs": [
    {
     "name": "stdout",
     "output_type": "stream",
     "text": [
      "[19, 99]\n"
     ]
    }
   ],
   "source": [
    "def foo(mylist):\n",
    "    return mylist[1:-1]\n",
    "\n",
    "print(foo([2, 19, 99, 101]))"
   ]
  },
  {
   "cell_type": "code",
   "execution_count": 54,
   "id": "c841ef29-1d95-4892-9d50-ac032c61a6ec",
   "metadata": {},
   "outputs": [
    {
     "data": {
      "text/plain": [
       "(1, 2, 3, 1, 2, 3)"
      ]
     },
     "execution_count": 54,
     "metadata": {},
     "output_type": "execute_result"
    }
   ],
   "source": [
    "(1, 2, 3) * 2\n"
   ]
  },
  {
   "cell_type": "code",
   "execution_count": 75,
   "id": "cddfde85-59af-498c-9c62-66cae8ef8cd8",
   "metadata": {
    "scrolled": true
   },
   "outputs": [
    {
     "name": "stdout",
     "output_type": "stream",
     "text": [
      "['mon', 'mon', 'mon', 'mon']\n",
      "[19, 25, 19, 11, 29]\n"
     ]
    }
   ],
   "source": [
    "def foo(lst):\n",
    "    count = 0\n",
    "    rslt = []\n",
    "    while count < len(lst)+1:\n",
    "        rslt.append(lst[count])\n",
    "        count += 7\n",
    "    return rslt\n",
    "\n",
    "\n",
    "print(foo(['mon', 'tue', 'wed', 'thu', 'fri', 'sat', 'sun', 'mon', 'tue', 'wed', 'thu', 'fri', 'sat', 'sun', 'mon', 'tue', 'wed', 'thu', 'fri', 'sat', 'sun', 'mon']))   \n",
    "        \n",
    "print(foo([19, 26, 12, 15, 21, 22, 9, 25, 20, 29, 19, 18, 5, 22, 19, 21, 18, 4, 18, 30, 23, 11, 26, 20, 13, 14, 29, 28, 29, 26]))"
   ]
  },
  {
   "cell_type": "code",
   "execution_count": 2,
   "id": "1db76924-a125-4e45-988b-01f0127aa13f",
   "metadata": {},
   "outputs": [
    {
     "name": "stdout",
     "output_type": "stream",
     "text": [
      "mon\n",
      "mon\n",
      "mon\n",
      "mon\n"
     ]
    }
   ],
   "source": [
    "lst = ['mon', 'tue', 'wed', 'thu', 'fri', 'sat', 'sun', 'mon', 'tue', 'wed', 'thu', 'fri', 'sat', 'sun', 'mon', 'tue', 'wed', 'thu', 'fri', 'sat', 'sun', 'mon']\n",
    "\n",
    "count = 0\n",
    "while count < len(lst):\n",
    "    print (lst[count])\n",
    "    count += 7"
   ]
  },
  {
   "cell_type": "code",
   "execution_count": null,
   "id": "f86c4858-e90d-412b-9e2f-21adcbe17a73",
   "metadata": {},
   "outputs": [],
   "source": [
    "lst = ['mon', 'tue', 'wed', 'thu', 'fri', 'sat', 'sun', 'mon', 'tue', 'wed', 'thu', 'fri', 'sat', 'sun', 'mon', 'tue', 'wed', 'thu', 'fri', 'sat', 'sun', 'mon']\n",
    "\n",
    "count = 0\n",
    "\n",
    "while count < len(lst): \n",
    "    for i in range(5):\n",
    "        if count + i < len(lst):\n",
    "            print(lst[count + i])\n",
    "        \n",
    "    count += 7"
   ]
  },
  {
   "cell_type": "code",
   "execution_count": null,
   "id": "8629aed9-cb21-4436-871a-af8e2e4fac65",
   "metadata": {
    "scrolled": true
   },
   "outputs": [],
   "source": [
    "def foo(lst):\n",
    "    count = 0\n",
    "    rslt = []\n",
    "    while count < len(lst): \n",
    "        for i in range(5):\n",
    "            if count + i < len(lst):\n",
    "                rslt.append(lst[count + i])       \n",
    "        count += 7\n",
    "    return rslt\n",
    "    \n",
    "\n",
    "\n",
    "print(foo(['mon', 'tue', 'wed', 'thu', 'fri', 'sat', 'sun', 'mon', 'tue', 'wed', 'thu', 'fri', 'sat', 'sun', 'mon', 'tue', 'wed', 'thu', 'fri', 'sat', 'sun', 'mon']))   \n",
    "        \n",
    "print(foo([19, 26, 12, 15, 21, 22, 9, 25, 20, 29, 19, 18, 5, 22, 19, 21, 18, 4, 18, 30, 23, 11, 26, 20, 13, 14, 29, 28, 29, 26]))"
   ]
  },
  {
   "cell_type": "code",
   "execution_count": null,
   "id": "c1d8bc1f-13a9-4827-95a5-794b3c1e660c",
   "metadata": {},
   "outputs": [],
   "source": []
  }
 ],
 "metadata": {
  "kernelspec": {
   "display_name": "Python 3 (ipykernel)",
   "language": "python",
   "name": "python3"
  },
  "language_info": {
   "codemirror_mode": {
    "name": "ipython",
    "version": 3
   },
   "file_extension": ".py",
   "mimetype": "text/x-python",
   "name": "python",
   "nbconvert_exporter": "python",
   "pygments_lexer": "ipython3",
   "version": "3.10.12"
  }
 },
 "nbformat": 4,
 "nbformat_minor": 5
}
