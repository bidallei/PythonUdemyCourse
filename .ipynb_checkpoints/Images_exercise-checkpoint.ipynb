{
 "cells": [
  {
   "cell_type": "code",
   "execution_count": null,
   "id": "b8005253-cde8-4b4d-9b23-c02ec1fe0187",
   "metadata": {},
   "outputs": [],
   "source": [
    "import cv2"
   ]
  },
  {
   "cell_type": "code",
   "execution_count": null,
   "id": "bc03cbe5-cbbc-48e1-8a65-c4c37a953be3",
   "metadata": {
    "scrolled": true
   },
   "outputs": [],
   "source": [
    "img = cv2.imread(\"galaxy.jpg\", -1) # Con -1 se queda de colores, com 0 se vuelve blanco y negro\n",
    "print(type(img))\n",
    "print(img) # Se volvió la imagen todos los arrays con los colores en rgb de cada pixel\n",
    "print(img.shape) # Muestra el número de columnas y líneas de img\n",
    "print(img.ndim)"
   ]
  },
  {
   "cell_type": "code",
   "execution_count": null,
   "id": "dc396ba7-12ed-4450-a821-49c15275798f",
   "metadata": {},
   "outputs": [],
   "source": [
    "cv2.imshow(\"Galaxy\", img)\n",
    "cv2.waitKey(0) # Con el cero se queda todo el tiempo que queramos abierta la imagen\n",
    "cv2.destroyAllWindows()"
   ]
  },
  {
   "cell_type": "code",
   "execution_count": null,
   "id": "b8e41372-14b4-45b1-8b7c-00c892f153df",
   "metadata": {},
   "outputs": [],
   "source": [
    "#Se puede redimensionar\n",
    "resized_image = cv2.resize(img,(1000,500))\n",
    "cv2.imshow(\"Galaxy02\", resized_image)\n",
    "cv2.waitKey(0)\n",
    "cv2.destroyAllWindows()"
   ]
  },
  {
   "cell_type": "code",
   "execution_count": null,
   "id": "74ad085b-cf84-4f96-9e0c-ba3239c78a8d",
   "metadata": {},
   "outputs": [],
   "source": [
    "#Se puede redimensionar para que sea proporcional\n",
    "resized_image = cv2.resize(img,(1000,500))\n",
    "cv2.imshow(\"Galaxy02\", resized_image)\n",
    "cv2.waitKey(0)\n",
    "cv2.destroyAllWindows()"
   ]
  }
 ],
 "metadata": {
  "kernelspec": {
   "display_name": "Python 3 (ipykernel)",
   "language": "python",
   "name": "python3"
  },
  "language_info": {
   "codemirror_mode": {
    "name": "ipython",
    "version": 3
   },
   "file_extension": ".py",
   "mimetype": "text/x-python",
   "name": "python",
   "nbconvert_exporter": "python",
   "pygments_lexer": "ipython3",
   "version": "3.10.12"
  }
 },
 "nbformat": 4,
 "nbformat_minor": 5
}
